{
 "cells": [
  {
   "cell_type": "code",
   "execution_count": 1,
   "id": "9687258a",
   "metadata": {},
   "outputs": [
    {
     "name": "stdout",
     "output_type": "stream",
     "text": [
      "Python 3.9.13\n"
     ]
    }
   ],
   "source": [
    "!python -V"
   ]
  },
  {
   "cell_type": "code",
   "execution_count": 2,
   "id": "4b534645",
   "metadata": {},
   "outputs": [
    {
     "name": "stderr",
     "output_type": "stream",
     "text": [
      "ModuleNotFoundError: No module named 'shapely'\n"
     ]
    },
    {
     "name": "stdout",
     "output_type": "stream",
     "text": [
      "The package version:  2.16.23031601\n"
     ]
    }
   ],
   "source": [
    "import hana_ml\n",
    "print(\"The package version: \",hana_ml.__version__)"
   ]
  },
  {
   "cell_type": "code",
   "execution_count": 3,
   "id": "e750df32",
   "metadata": {},
   "outputs": [],
   "source": [
    "from hana_ml import dataframe as hdf"
   ]
  },
  {
   "cell_type": "code",
   "execution_count": 4,
   "id": "ec276279",
   "metadata": {},
   "outputs": [
    {
     "name": "stdout",
     "output_type": "stream",
     "text": [
      "4.00.000.00.1678185420 (fa/CE2022.42)\n"
     ]
    }
   ],
   "source": [
    "from hana_ml import dataframe\n",
    ">>> conn = dataframe.ConnectionContext(address=\"01ca5395-3b9d-4b5f-ba69-4743e5d05b57.hana.trial-us10.hanacloud.ondemand.com\",\n",
    "                                       port=443,\n",
    "                                       user=\" \",\n",
    "                                       password=\" \")\n",
    "print(conn.hana_version())"
   ]
  },
  {
   "cell_type": "code",
   "execution_count": 5,
   "id": "30688181",
   "metadata": {},
   "outputs": [
    {
     "name": "stdout",
     "output_type": "stream",
     "text": [
      "2023-03-16 13:07:44.448000\n"
     ]
    }
   ],
   "source": [
    "print(conn.sql(\"SELECT NOW() FROM DUMMY\").collect().CURRENT_TIMESTAMP[0])"
   ]
  },
  {
   "cell_type": "code",
   "execution_count": null,
   "id": "a635f991",
   "metadata": {},
   "outputs": [],
   "source": []
  }
 ],
 "metadata": {
  "kernelspec": {
   "display_name": "Python 3 (ipykernel)",
   "language": "python",
   "name": "python3"
  },
  "language_info": {
   "codemirror_mode": {
    "name": "ipython",
    "version": 3
   },
   "file_extension": ".py",
   "mimetype": "text/x-python",
   "name": "python",
   "nbconvert_exporter": "python",
   "pygments_lexer": "ipython3",
   "version": "3.9.13"
  }
 },
 "nbformat": 4,
 "nbformat_minor": 5
}
